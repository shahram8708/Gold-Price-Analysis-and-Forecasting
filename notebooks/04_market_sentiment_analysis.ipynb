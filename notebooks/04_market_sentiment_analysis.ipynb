{
 "cells": [
  {
   "cell_type": "markdown",
   "metadata": {},
   "source": [
    "# Market Sentiment Analysis\n",
    "This notebook investigates the impact of market events on gold prices."
   ]
  },
  {
   "cell_type": "code",
   "execution_count": null,
   "metadata": {},
   "outputs": [],
   "source": [
    "import pandas as pd\n",
    "import matplotlib.pyplot as plt\n",
    "\n",
    "df = pd.read_csv('../data/gold_prices.csv', parse_dates=['Date'], index_col='Date')\n",
    "\n",
    "def plot_price_vs_events(df, events):\n",
    "    plt.figure(figsize=(14, 7))\n",
    "    plt.plot(df['Close'], label='Gold Price')\n",
    "    \n",
    "    for event in events:\n",
    "        plt.axvline(x=event['date'], color='r', linestyle='--', lw=2)\n",
    "        plt.text(event['date'], df['Close'].max(), event['description'], rotation=90, verticalalignment='bottom')\n",
    "    \n",
    "    plt.title('Gold Price and Significant Market Events')\n",
    "    plt.xlabel('Date')\n",
    "    plt.ylabel('Price')\n",
    "    plt.legend()\n",
    "    plt.savefig('../results/market_sentiment_reports/price_vs_events.png')\n",
    "    plt.show()\n",
    "\n",
    "events = [\n",
    "    {'date': '2020-03-01', 'description': 'COVID-19 Pandemic'},\n",
    "    {'date': '2016-11-08', 'description': 'US Presidential Election'},\n",
    "]\n",
    "\n",
    "plot_price_vs_events(df, events)\n"
   ]
  }
 ],
 "metadata": {
  "kernelspec": {
   "display_name": "Python 3",
   "language": "python",
   "name": "python3"
  },
  "language_info": {
   "codemirror_mode": {
    "name": "ipython",
    "version": 3
   },
   "file_extension": ".py",
   "mimetype": "text/x-python",
   "name": "python",
   "nbconvert_exporter": "python",
   "pygments_lexer": "ipython3",
   "version": "3.9.6"
  }
 },
 "nbformat": 4,
 "nbformat_minor": 5
}
