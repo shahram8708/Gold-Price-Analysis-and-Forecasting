{
 "cells": [
  {
   "cell_type": "markdown",
   "metadata": {},
   "source": [
    "# Trading Strategy Development\n",
    "This notebook formulates and backtests trading strategies based on gold price data."
   ]
  },
  {
   "cell_type": "code",
   "execution_count": null,
   "metadata": {},
   "outputs": [],
   "source": [
    "import pandas as pd\n",
    "import numpy as np\n",
    "\n",
    "df = pd.read_csv('../data/gold_prices.csv', parse_dates=['Date'], index_col='Date')\n",
    "\n",
    "def simple_moving_average_strategy(df, short_window=40, long_window=100):\n",
    "    signals = pd.DataFrame(index=df.index)\n",
    "    signals['signal'] = 0.0\n",
    "    \n",
    "    signals['short_mavg'] = df['Close'].rolling(window=short_window, min_periods=1, center=False).mean()\n",
    "    signals['long_mavg'] = df['Close'].rolling(window=long_window, min_periods=1, center=False).mean()\n",
    "    \n",
    "    signals['signal'][short_window:] = np.where(signals['short_mavg'][short_window:] > signals['long_mavg'][short_window:], 1.0, 0.0)\n",
    "    \n",
    "    signals['positions'] = signals['signal'].diff()\n",
    "    \n",
    "    return signals\n",
    "\n",
    "strategy_signals = simple_moving_average_strategy(df)\n",
    "\n",
    "strategy_signals.to_csv('../results/trading_strategies/sma_strategy_signals.csv')\n",
    "print(strategy_signals.head())\n"
   ]
  }
 ],
 "metadata": {
  "kernelspec": {
   "display_name": "Python 3",
   "language": "python",
   "name": "python3"
  },
  "language_info": {
   "codemirror_mode": {
    "name": "ipython",
    "version": 3
   },
   "file_extension": ".py",
   "mimetype": "text/x-python",
   "name": "python",
   "nbconvert_exporter": "python",
   "pygments_lexer": "ipython3",
   "version": "3.9.6"
  }
 },
 "nbformat": 4,
 "nbformat_minor": 5
}
